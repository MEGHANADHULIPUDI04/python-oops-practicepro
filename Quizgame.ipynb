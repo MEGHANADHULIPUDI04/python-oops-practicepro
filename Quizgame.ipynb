{
 "cells": [
  {
   "cell_type": "code",
   "execution_count": 1,
   "id": "4919e5a5",
   "metadata": {},
   "outputs": [
    {
     "name": "stdout",
     "output_type": "stream",
     "text": [
      " Welcome to the Quiz Game!!\n",
      "Incorrect.. The correct answer is b. \n",
      "\n",
      "Correct!!\n",
      "\n",
      "Correct!!\n",
      "\n",
      " Quiz Over** You got 2/3 correct. \n"
     ]
    }
   ],
   "source": [
    "class Question:\n",
    "    def __init__(self, prompt, answer):\n",
    "        self.prompt = prompt\n",
    "        self.answer = answer\n",
    "class Quiz:\n",
    "    def __init__(self, questions):\n",
    "        self.questions = questions\n",
    "        self.score = 0\n",
    "    def start(self):\n",
    "        print(\" Welcome to the Quiz Game!!\")\n",
    "        for i, question in enumerate(self.questions):\n",
    "            user_answer= input(f\"Q{i+1}: {question.prompt} \")\n",
    "            if user_answer.lower() == question.answer.lower():\n",
    "                print(\"Correct!!\")\n",
    "                self.score +=1\n",
    "            else:\n",
    "                print(f\"Incorrect.. The correct answer is {question.answer}. \")\n",
    "            print()\n",
    "        print(f\" Quiz Over** You got {self.score}/{len(self.questions)} correct. \")\n",
    "question_prompts= [\n",
    "    \"What is the capital of India?\\n(a) Mumbai\\n(b) Delhi\\n(c) Bangalore\\nAnswer:\",\n",
    "    \"which language is used for web apps?\\n(a) Python\\n(b) Java\\n(c) Javascript\\nAnswer:\",\n",
    "    \"Who wrote 'Harry Potter'?\\n(a) J.R.R Tolkien\\n(b) J.K Rowling\\n(c) Stephen King\\nAnswer:\"\n",
    "]\n",
    "questions = [\n",
    "    Question(question_prompts[0],\"b\"),\n",
    "    Question(question_prompts[1],\"b\"),\n",
    "    Question(question_prompts[2],\"b\"),\n",
    "]\n",
    "if __name__ == \"__main__\":\n",
    "    quiz = Quiz(questions)\n",
    "    quiz.start()"
   ]
  }
 ],
 "metadata": {
  "kernelspec": {
   "display_name": "Python 3",
   "language": "python",
   "name": "python3"
  },
  "language_info": {
   "codemirror_mode": {
    "name": "ipython",
    "version": 3
   },
   "file_extension": ".py",
   "mimetype": "text/x-python",
   "name": "python",
   "nbconvert_exporter": "python",
   "pygments_lexer": "ipython3",
   "version": "3.13.3"
  }
 },
 "nbformat": 4,
 "nbformat_minor": 5
}
