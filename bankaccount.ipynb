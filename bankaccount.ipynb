{
 "cells": [
  {
   "cell_type": "code",
   "execution_count": null,
   "id": "e6154518",
   "metadata": {},
   "outputs": [],
   "source": [
    "class Bank:\n",
    "    def __init__(self, account_holder,balance=0):\n",
    "        self.__balance=balance\n",
    "    def deposite(self,amount):\n",
    "        if amount>0:\n",
    "            self.__balance+=amount\n",
    "            print(f\"Deposited {amount}.New Balance{self.__balance}\")\n",
    "        else:\n",
    "            print(\"Deposit amount must be positive.\")\n",
    "    def withdraw(self, amount):\n",
    "        if 0< amount<=self.__balance:\n",
    "            self.__balance-=amount\n",
    "            print(f\"Withdraw {amount}.New balance:{self.__balance}\")\n",
    "        else:\n",
    "            print(\"Insufficient balance or invalid amount.\")\n",
    "    def get_balance(self):\n",
    "        return self.__balance\n",
    "    def __str__(self):\n",
    "        return f\"Account Holder: {self.account_holder},Balance:{self.__balance}\"\n",
    "class SavingsAccount(Bank):\n",
    "    def __init__(self,account_holder,balance=0,intrest_rate=0.05):\n",
    "        super().__init__(account_holder,balance)\n",
    "        self.intrest_rate=intrest_rate\n",
    "    def apply_intrest(self):\n",
    "        intrest=self.get_balance()*self.intrest_rate\n",
    "        print(f\"Intrest {intrest:.2f} added.\")\n",
    "\n",
    "if __name__==\"__main__\":\n",
    "    acc1=Bank(\"Harry\",10000)\n",
    "    print(acc1)\n",
    "    acc1.deposite(2000)\n",
    "    acc1.withdraw(500)\n",
    "    print(f\"Final Balance:{acc1.get_balance()}\")\n",
    "    print(f\"\\n---- Saving Account---\")\n",
    "    acc2=SavingAccount(\"RON\",2000)\n",
    "    print(acc2)\n",
    "    acc2.apply_intrest()\n",
    "    acc2.withdraw(1000)\n"
   ]
  }
 ],
 "metadata": {
  "language_info": {
   "name": "python"
  }
 },
 "nbformat": 4,
 "nbformat_minor": 5
}
