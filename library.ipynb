{
 "cells": [
  {
   "cell_type": "code",
   "execution_count": null,
   "id": "b4012ea1",
   "metadata": {},
   "outputs": [
    {
     "name": "stdout",
     "output_type": "stream",
     "text": [
      "Python Basics has been added to the library.\n",
      "Books available in My Library:\n",
      "- Python Basics\n",
      "Python Basics has been lent to Alice.\n"
     ]
    }
   ],
   "source": [
    "class Library:\n",
    "    def __init__(self, name):\n",
    "        self.__name = name\n",
    "        self.__books = []\n",
    "        self.__lendingrecords = {}\n",
    "\n",
    "    def get_name(self):\n",
    "        return self.__name\n",
    "\n",
    "    def set_name(self, new_name):\n",
    "        self.__name = new_name\n",
    "\n",
    "    def display_books(self):\n",
    "        if not self.__books:\n",
    "            print(\"No books are available in the library.\")\n",
    "        else:\n",
    "            print(f\"Books available in {self.__name}:\")\n",
    "            for book in self.__books:\n",
    "                print(f\"- {book}\")\n",
    "\n",
    "    def add_book(self, book_name):\n",
    "        self.__books.append(book_name)\n",
    "        print(f\"{book_name} has been added to the library.\")\n",
    "\n",
    "    def lend_book(self, book_name, user_name):\n",
    "        if book_name not in self.__books:\n",
    "            print(f\"{book_name} is not in the library.\")\n",
    "        elif book_name in self.__lendingrecords:\n",
    "            print(f\"{book_name} is currently lent to {self.__lendingrecords[book_name]}.\")\n",
    "        else:\n",
    "            self.__lendingrecords[book_name] = user_name\n",
    "            print(f\"{book_name} has been lent to {user_name}.\")\n",
    "\n",
    "    def return_book(self, book_name):\n",
    "        if book_name in self.__lendingrecords:\n",
    "            del self.__lendingrecords[book_name]\n",
    "            print(f\"{book_name} has been returned.\")\n",
    "        else:\n",
    "            print(f\"{book_name} was not lent out.\")\n",
    "\n",
    "\n",
    "# Usage\n",
    "lib = Library(\"My Library\")\n",
    "lib.add_book(\"Python Basics\")\n",
    "lib.add_book(\"Data Stuctures\")\n",
    "lib.add_book(\"Java\")\n",
    "lib.display_books()\n",
    "lib.lend_book(\"Python Basics\", \"Alice\")\n"
   ]
  }
 ],
 "metadata": {
  "kernelspec": {
   "display_name": "Python 3",
   "language": "python",
   "name": "python3"
  },
  "language_info": {
   "codemirror_mode": {
    "name": "ipython",
    "version": 3
   },
   "file_extension": ".py",
   "mimetype": "text/x-python",
   "name": "python",
   "nbconvert_exporter": "python",
   "pygments_lexer": "ipython3",
   "version": "3.13.3"
  }
 },
 "nbformat": 4,
 "nbformat_minor": 5
}
