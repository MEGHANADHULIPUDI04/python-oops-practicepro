{
 "cells": [
  {
   "cell_type": "code",
   "execution_count": null,
   "id": "c622c8a1",
   "metadata": {},
   "outputs": [
    {
     "name": "stdout",
     "output_type": "stream",
     "text": [
      "Harry Potter\n",
      "Hermoine\n"
     ]
    }
   ],
   "source": [
    "#class generation, object creation\n",
    "class abc():\n",
    "    def name(self):\n",
    "        print(\"Harry Potter\")\n",
    "        print(\"Hermoine\")\n",
    "x = abc()\n",
    "x.name()"
   ]
  },
  {
   "cell_type": "code",
   "execution_count": 10,
   "id": "1dd1c2e3",
   "metadata": {},
   "outputs": [
    {
     "name": "stdout",
     "output_type": "stream",
     "text": [
      "Avatar\n"
     ]
    }
   ],
   "source": [
    "#passing parameter to class\n",
    "class movie():\n",
    "    def set_name(self,name):\n",
    "        self.name=name\n",
    "    def get_name(self):\n",
    "        return self.name\n",
    "s = movie()\n",
    "s.set_name(\"Avatar\")\n",
    "print(s.get_name())\n"
   ]
  },
  {
   "cell_type": "code",
   "execution_count": 15,
   "id": "a6dbcc67",
   "metadata": {},
   "outputs": [
    {
     "name": "stdout",
     "output_type": "stream",
     "text": [
      "50\n",
      "-18\n",
      "30\n"
     ]
    }
   ],
   "source": [
    "#basic maths\n",
    "class calcu():\n",
    "    def add(self,a,b):\n",
    "        return a+b\n",
    "    def sub(self,a,b):\n",
    "        return a-b\n",
    "    def mul(self,a,b):\n",
    "        return a*b\n",
    "c = calcu()\n",
    "print(c.add(20,30))\n",
    "print(c.sub(12,30))\n",
    "print(c.mul(5,6))\n"
   ]
  }
 ],
 "metadata": {
  "kernelspec": {
   "display_name": "Python 3",
   "language": "python",
   "name": "python3"
  },
  "language_info": {
   "codemirror_mode": {
    "name": "ipython",
    "version": 3
   },
   "file_extension": ".py",
   "mimetype": "text/x-python",
   "name": "python",
   "nbconvert_exporter": "python",
   "pygments_lexer": "ipython3",
   "version": "3.13.3"
  }
 },
 "nbformat": 4,
 "nbformat_minor": 5
}
