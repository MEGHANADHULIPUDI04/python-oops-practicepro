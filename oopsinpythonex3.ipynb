{
 "cells": [
  {
   "cell_type": "code",
   "execution_count": null,
   "id": "348976a5",
   "metadata": {},
   "outputs": [
    {
     "name": "stdout",
     "output_type": "stream",
     "text": [
      "20\n"
     ]
    }
   ],
   "source": [
    "#To calculate length and breadth using oops\n",
    "class rectangle:\n",
    "    def __init__(self,length,breadth):\n",
    "        self.length=length\n",
    "        self.breadth=breadth\n",
    "    def area(self):\n",
    "        return self.length*self.breadth\n",
    "    def display(self):\n",
    "        print(r.area())\n",
    "lenght=int(input(\"enter the l value\"))\n",
    "breadth=int(input(\"enter the b value\"))\n",
    "r= rectangle(lenght,breadth)\n",
    "r.display()\n"
   ]
  },
  {
   "cell_type": "code",
   "execution_count": 13,
   "id": "0444990d",
   "metadata": {},
   "outputs": [
    {
     "name": "stdout",
     "output_type": "stream",
     "text": [
      "Var: 10\n"
     ]
    }
   ],
   "source": [
    "#code for class method to call a function which is defined in global namespace\n",
    "def globe(x):\n",
    "    return x*10\n",
    "class pqr():\n",
    "    def __init__(self,var):\n",
    "        self.var=var\n",
    "    def display(self):\n",
    "        print(\"Var:\",self.var)\n",
    "    def display1(self):\n",
    "        self.var=globe(self.var)\n",
    "obj= pqr(10)\n",
    "obj.display()\n",
    "obj.display1()"
   ]
  },
  {
   "cell_type": "code",
   "execution_count": null,
   "id": "fa84f7c1",
   "metadata": {},
   "outputs": [
    {
     "name": "stdout",
     "output_type": "stream",
     "text": [
      "meghana got []\n",
      "jay got [50, 49, 45]\n"
     ]
    }
   ],
   "source": [
    "#student marks entry and display using classes\n",
    "class student:\n",
    "    def __init__(self,name):\n",
    "        self.name=name\n",
    "        self.marks=[]\n",
    "    def enter_marks(self):\n",
    "        for i in range(3):\n",
    "            x = int(input(\"enter the marks of %s in subject %d:\"%(self.name,i+1)))\n",
    "            self.marks.append(x)\n",
    "    def display(self):\n",
    "        print(self.name,\"got\",self.marks)\n",
    "student1 = student(\"meghana\")\n",
    "student2 = student(\"jay\")\n",
    "student2.enter_marks()\n",
    "student1.enter_marks()\n",
    "student1.display()\n",
    "student2.display()"
   ]
  }
 ],
 "metadata": {
  "kernelspec": {
   "display_name": "Python 3",
   "language": "python",
   "name": "python3"
  },
  "language_info": {
   "codemirror_mode": {
    "name": "ipython",
    "version": 3
   },
   "file_extension": ".py",
   "mimetype": "text/x-python",
   "name": "python",
   "nbconvert_exporter": "python",
   "pygments_lexer": "ipython3",
   "version": "3.13.3"
  }
 },
 "nbformat": 4,
 "nbformat_minor": 5
}
