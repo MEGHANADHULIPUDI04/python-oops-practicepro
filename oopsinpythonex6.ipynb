{
 "cells": [
  {
   "cell_type": "code",
   "execution_count": null,
   "id": "a80d554e",
   "metadata": {},
   "outputs": [],
   "source": [
    "class BankAccount:\n",
    "    def __init__(self,owner,balance):\n",
    "        self.owner=owner\n",
    "        self.balance=balance\n",
    "    def deposite(self,amount):\n",
    "        self.balance+=amount\n",
    "        print(f\"Deposited: {amount}\")\n",
    "    def widthdraw(self,amount):\n",
    "        if amount <= self.balance:\n",
    "            self.balance-=amount\n",
    "            print(f\"widthdraw:{amount}\")\n",
    "        else:\n",
    "            print(\"Insufficient balance\")\n",
    "    def show_balance(self):\n",
    "        print(f\"{self.owner} 's balance: {self.balance}\")\n",
    "acc1=BankAccount(\"Harry\",2000)\n",
    "acc1.show_balance()\n",
    "acc1.deposite(1000)\n",
    "acc1.widthdraw(500)\n",
    "acc1.show_balance()"
   ]
  }
 ],
 "metadata": {
  "language_info": {
   "name": "python"
  }
 },
 "nbformat": 4,
 "nbformat_minor": 5
}
