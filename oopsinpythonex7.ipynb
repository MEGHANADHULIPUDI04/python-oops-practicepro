{
 "cells": [
  {
   "cell_type": "code",
   "execution_count": 6,
   "id": "e62f0229",
   "metadata": {},
   "outputs": [
    {
     "name": "stdout",
     "output_type": "stream",
     "text": [
      "Area of rectangle: 110\n",
      "Area of circle: 78.53981633974483\n",
      "Area of triangle: 10.0\n"
     ]
    }
   ],
   "source": [
    "'''abstraction of the base class for evaluating the area of circle,rectangle,triangle'''\n",
    "from abc import ABC,abstractmethod\n",
    "from math import pi\n",
    "class shape(ABC):\n",
    "    def __init__(self,name):\n",
    "        self.name=name\n",
    "    def area(self):\n",
    "        pass\n",
    "class rectangle(shape):\n",
    "    def __init__(self,l,b):\n",
    "        super().__init__(\"Rectangle\")\n",
    "        self.l=l\n",
    "        self.b=b\n",
    "    def area(self):\n",
    "        return self.l*self.b\n",
    "class circle(shape):\n",
    "    def __init__(self,r):\n",
    "        super().__init__(\"Circle\")\n",
    "        self.r=r\n",
    "    def area(self):\n",
    "        return pi*self.r*self.r\n",
    "class triangle(shape):\n",
    "    def __init__(self,b,h):\n",
    "        super().__init__(\"Triangle\")\n",
    "        self.h=h\n",
    "        self.b=b\n",
    "    def area(self):\n",
    "        return 0.5*self.b*self.h\n",
    "r=rectangle(10,11)\n",
    "c=circle(5)\n",
    "t=triangle(5,4)\n",
    "print(\"Area of rectangle:\",r.area())\n",
    "print(\"Area of circle:\",c.area())\n",
    "print(\"Area of triangle:\",t.area())\n"
   ]
  }
 ],
 "metadata": {
  "kernelspec": {
   "display_name": "Python 3",
   "language": "python",
   "name": "python3"
  },
  "language_info": {
   "codemirror_mode": {
    "name": "ipython",
    "version": 3
   },
   "file_extension": ".py",
   "mimetype": "text/x-python",
   "name": "python",
   "nbconvert_exporter": "python",
   "pygments_lexer": "ipython3",
   "version": "3.13.3"
  }
 },
 "nbformat": 4,
 "nbformat_minor": 5
}
