{
 "cells": [
  {
   "cell_type": "code",
   "execution_count": 6,
   "id": "5b1596db",
   "metadata": {},
   "outputs": [
    {
     "name": "stdout",
     "output_type": "stream",
     "text": [
      "derived-class\n",
      "Base-class1\n",
      "Base-class2\n"
     ]
    }
   ],
   "source": [
    "#code to demo the call from super class through constructor of the class\n",
    "class base1:\n",
    "    def __init__(self):\n",
    "        print(\"Base-class1\")\n",
    "        super(base1,self).__init__()\n",
    "class base2:\n",
    "    def __init__(self):\n",
    "        print(\"Base-class2\")\n",
    "        super(base2,self).__init__()\n",
    "class derived(base1,base2):\n",
    "    def __init__(self):\n",
    "        print(\"derived-class\")\n",
    "        super(derived,self).__init__()\n",
    "d= derived()"
   ]
  },
  {
   "cell_type": "code",
   "execution_count": 5,
   "id": "a84fd1ce",
   "metadata": {},
   "outputs": [
    {
     "name": "stdout",
     "output_type": "stream",
     "text": [
      "Object.__dict__ {'var1': 10, 'var2': 23.44}\n",
      "Object.__doc__ None\n",
      "class.__name__ abc\n",
      "Object.__module__ __main__\n",
      "class.__bases__ (<class 'object'>,)\n"
     ]
    }
   ],
   "source": [
    "#methods\n",
    "class abc():\n",
    "    def __init__(self,var1,var2):\n",
    "        self.var1=var1\n",
    "        self.var2=var2\n",
    "    def display(self):\n",
    "        print(\"Var1:\",self.var1)\n",
    "        print(\"Var2:\",self.var2)\n",
    "obj = abc(10,23.44)\n",
    "print(\"Object.__dict__\",obj.__dict__)\n",
    "print(\"Object.__doc__\",obj.__doc__)\n",
    "print(\"class.__name__\",abc.__name__)\n",
    "print(\"Object.__module__\",obj.__module__)\n",
    "print(\"class.__bases__\",abc.__bases__)\n",
    "\n"
   ]
  }
 ],
 "metadata": {
  "kernelspec": {
   "display_name": "Python 3",
   "language": "python",
   "name": "python3"
  },
  "language_info": {
   "codemirror_mode": {
    "name": "ipython",
    "version": 3
   },
   "file_extension": ".py",
   "mimetype": "text/x-python",
   "name": "python",
   "nbconvert_exporter": "python",
   "pygments_lexer": "ipython3",
   "version": "3.13.3"
  }
 },
 "nbformat": 4,
 "nbformat_minor": 5
}
