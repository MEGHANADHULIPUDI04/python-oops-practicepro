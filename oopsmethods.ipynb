{
 "cells": [
  {
   "cell_type": "code",
   "execution_count": 3,
   "id": "ba5d86fc",
   "metadata": {},
   "outputs": [
    {
     "name": "stdout",
     "output_type": "stream",
     "text": [
      "The object value: 10\n",
      "The class var value: 1\n",
      "The object value: 20\n",
      "The class var value: 2\n",
      "The object value: 30\n",
      "The class var value: 3\n",
      "Object with value 10 is going out of scope\n",
      "Object with value 20 is going out of scope\n",
      "Object with value 30 is going out of scope\n"
     ]
    }
   ],
   "source": [
    "#method __del__\n",
    "class abc():\n",
    "    classvar=0\n",
    "    def __init__(self,var):\n",
    "        abc.classvar+=1\n",
    "        self.var=var\n",
    "        print(\"The object value:\",var)\n",
    "        print(\"The class var value:\",abc.classvar)\n",
    "    def __del__(self):\n",
    "        abc.classvar-=1\n",
    "        print(\"Object with value %d is going out of scope\"% self.var)\n",
    "obj1 = abc(10)\n",
    "obj2 = abc(20)\n",
    "obj3 = abc(30)\n",
    "del obj1\n",
    "del obj2 \n",
    "del obj3  \n"
   ]
  },
  {
   "cell_type": "code",
   "execution_count": 6,
   "id": "feb65819",
   "metadata": {},
   "outputs": [
    {
     "name": "stdout",
     "output_type": "stream",
     "text": [
      "From class method 23\n",
      "From class method 24\n",
      "From main method: var1= 23\n"
     ]
    }
   ],
   "source": [
    "#private and public variable\n",
    "class xyz():\n",
    "    def __init__(self,var1,var2):\n",
    "        self.var1=var1 #public variable\n",
    "        self.__var2=var2 #private variable\n",
    "    def display(self):\n",
    "        print(\"From class method\",self.var1)\n",
    "        print(\"From class method\",self.__var2)\n",
    "obj = xyz(23,24)\n",
    "obj.display()\n",
    "print(\"From main method: var1=\",obj.var1)"
   ]
  },
  {
   "cell_type": "code",
   "execution_count": null,
   "id": "58ca981b",
   "metadata": {},
   "outputs": [],
   "source": []
  }
 ],
 "metadata": {
  "kernelspec": {
   "display_name": "Python 3",
   "language": "python",
   "name": "python3"
  },
  "language_info": {
   "codemirror_mode": {
    "name": "ipython",
    "version": 3
   },
   "file_extension": ".py",
   "mimetype": "text/x-python",
   "name": "python",
   "nbconvert_exporter": "python",
   "pygments_lexer": "ipython3",
   "version": "3.13.3"
  }
 },
 "nbformat": 4,
 "nbformat_minor": 5
}
