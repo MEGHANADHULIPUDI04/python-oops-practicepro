{
 "cells": [
  {
   "cell_type": "code",
   "execution_count": null,
   "id": "ba5d86fc",
   "metadata": {},
   "outputs": [],
   "source": [
    "#method __del__\n",
    "class abc():\n",
    "    classvar=0\n",
    "    def __init__(self,var):\n",
    "        abc.classvar+=1\n",
    "        self.var=var\n",
    "        print(\"The object value:\",var)\n",
    "        print(\"The class var value:\",abc.classvar)\n",
    "    def __del__(self):\n",
    "        abc.classvar-=1\n",
    "        print(\"Object with value %d is going out of scope\",%self.var)\n",
    "obj1 = abc(10)\n",
    "obj2 = abc(20)\n",
    "obj3 = abc(30)\n",
    "del obj1\n",
    "del obj2 \n",
    "del obj3\n"
   ]
  }
 ],
 "metadata": {
  "language_info": {
   "name": "python"
  }
 },
 "nbformat": 4,
 "nbformat_minor": 5
}
